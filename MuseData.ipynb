{
 "cells": [
  {
   "cell_type": "code",
   "execution_count": 14,
   "metadata": {},
   "outputs": [
    {
     "name": "stdout",
     "output_type": "stream",
     "text": [
      "bach\n"
     ]
    }
   ],
   "source": [
    "%%bash\n",
    "echo 'mddata?composer=bach&edition=bg&genre=cant&work=0002&format=midi1&multi=zip' | sed 's/.*composer=\\([^&]*\\).*/\\1/'"
   ]
  },
  {
   "cell_type": "code",
   "execution_count": 44,
   "metadata": {},
   "outputs": [
    {
     "name": "stdout",
     "output_type": "stream",
     "text": [
      "bach\n",
      "edition\n",
      "bg\n",
      "UnZip 6.00 of 20 April 2009, by Debian. Original by Info-ZIP.\n",
      "\n",
      "Usage: unzip [-Z] [-opts[modifiers]] file[.zip] [list] [-x xlist] [-d exdir]\n",
      "  Default action is to extract files in list, except those in xlist, to exdir;\n",
      "  file[.zip] may be a wildcard.  -Z => ZipInfo mode (\"unzip -Z\" for usage).\n",
      "\n",
      "  -p  extract files to pipe, no messages     -l  list files (short format)\n",
      "  -f  freshen existing files, create none    -t  test compressed archive data\n",
      "  -u  update files, create if necessary      -z  display archive comment only\n",
      "  -v  list verbosely/show version info       -T  timestamp archive to latest\n",
      "  -x  exclude files that follow (in xlist)   -d  extract files into exdir\n",
      "modifiers:\n",
      "  -n  never overwrite existing files         -q  quiet mode (-qq => quieter)\n",
      "  -o  overwrite files WITHOUT prompting      -a  auto-convert any text files\n",
      "  -j  junk paths (do not make directories)   -aa treat ALL files as text\n",
      "  -U  use escapes for all non-ASCII Unicode  -UU ignore any Unicode fields\n",
      "  -C  match filenames case-insensitively     -L  make (some) names lowercase\n",
      "  -X  restore UID/GID info                   -V  retain VMS version numbers\n",
      "  -K  keep setuid/setgid/tacky permissions   -M  pipe through \"more\" pager\n",
      "  -O CHARSET  specify a character encoding for DOS, Windows and OS/2 archives\n",
      "  -I CHARSET  specify a character encoding for UNIX and other archives\n",
      "\n",
      "See \"unzip -hh\" or unzip.txt for more help.  Examples:\n",
      "  unzip data1 -x joe   => extract all files except joe from zipfile data1.zip\n",
      "  unzip -p foo | more  => send contents of foo.zip via pipe into program more\n",
      "  unzip -fo foo ReadMe => quietly replace existing ReadMe if archive file newer\n"
     ]
    }
   ],
   "source": [
    "%%bash\n",
    "QUERY_STRING='param1=value1&param2=value2&param3=value3'\n",
    "QUERY_STRING='mddata?composer=bach&edition=bg&genre=cant&work=0002&format=midi1&multi=zip' \n",
    "arr=(${QUERY_STRING//[=&]/ })\n",
    "echo ${arr[1]}\n",
    "echo ${arr[2]}\n",
    "echo ${arr[3]}\n",
    "unzip --help"
   ]
  },
  {
   "cell_type": "code",
   "execution_count": 57,
   "metadata": {},
   "outputs": [
    {
     "name": "stdout",
     "output_type": "stream",
     "text": [
      "composer-bach-edition-bg-genre-cant-work-0002-format-midi1-multi-zip\n",
      "Archive:  mddata?composer=bach&edition=bg&genre=cant&work=0002&format=midi1&multi=zip\n",
      "   creating: tmp/midi1/\n",
      "  inflating: tmp/midi1/04.mid        \n",
      "  inflating: tmp/midi1/05.mid        \n",
      "  inflating: tmp/midi1/01.mid        \n",
      "  inflating: tmp/midi1/06.mid        \n",
      "  inflating: tmp/midi1/03.mid        \n",
      "  inflating: tmp/midi1/02.mid        \n",
      "mv tmp/midi1/01.mid MIDI/MuseData/composer-bach-edition-bg-genre-cant-work-0002-format-midi1-multi-zip-number-01.mid\n",
      "mv tmp/midi1/02.mid MIDI/MuseData/composer-bach-edition-bg-genre-cant-work-0002-format-midi1-multi-zip-number-02.mid\n",
      "mv tmp/midi1/03.mid MIDI/MuseData/composer-bach-edition-bg-genre-cant-work-0002-format-midi1-multi-zip-number-03.mid\n",
      "mv tmp/midi1/04.mid MIDI/MuseData/composer-bach-edition-bg-genre-cant-work-0002-format-midi1-multi-zip-number-04.mid\n",
      "mv tmp/midi1/05.mid MIDI/MuseData/composer-bach-edition-bg-genre-cant-work-0002-format-midi1-multi-zip-number-05.mid\n",
      "mv tmp/midi1/06.mid MIDI/MuseData/composer-bach-edition-bg-genre-cant-work-0002-format-midi1-multi-zip-number-06.mid\n",
      "composer-haydn-edition-bh-genre-sym-work-s-001-format-midi1-multi-zip\n",
      "Archive:  mddata?composer=haydn&edition=bh&genre=sym&work=s-001&format=midi1&multi=zip\n",
      "   creating: tmp/midi1/\n",
      "  inflating: tmp/midi1/01.mid        \n",
      "  inflating: tmp/midi1/03.mid        \n",
      "  inflating: tmp/midi1/02.mid        \n",
      "mv tmp/midi1/01.mid MIDI/MuseData/composer-haydn-edition-bh-genre-sym-work-s-001-format-midi1-multi-zip-number-01.mid\n",
      "mv tmp/midi1/02.mid MIDI/MuseData/composer-haydn-edition-bh-genre-sym-work-s-001-format-midi1-multi-zip-number-02.mid\n",
      "mv tmp/midi1/03.mid MIDI/MuseData/composer-haydn-edition-bh-genre-sym-work-s-001-format-midi1-multi-zip-number-03.mid\n",
      "composer-mozart-edition-bh-genre-conc-work-k450-format-midi1-multi-zip\n",
      "Archive:  mddata?composer=mozart&edition=bh&genre=conc&work=k450&format=midi1&multi=zip\n",
      "   creating: tmp/midi1/\n",
      "  inflating: tmp/midi1/01.mid        \n",
      "  inflating: tmp/midi1/03.mid        \n",
      "  inflating: tmp/midi1/02.mid        \n",
      "mv tmp/midi1/01.mid MIDI/MuseData/composer-mozart-edition-bh-genre-conc-work-k450-format-midi1-multi-zip-number-01.mid\n",
      "mv tmp/midi1/02.mid MIDI/MuseData/composer-mozart-edition-bh-genre-conc-work-k450-format-midi1-multi-zip-number-02.mid\n",
      "mv tmp/midi1/03.mid MIDI/MuseData/composer-mozart-edition-bh-genre-conc-work-k450-format-midi1-multi-zip-number-03.mid\n",
      "composer-bach-edition-bg-genre-cant-work-0002-format-midi1-multi-zip-number-01.mid\n",
      "composer-bach-edition-bg-genre-cant-work-0002-format-midi1-multi-zip-number-02.mid\n",
      "composer-bach-edition-bg-genre-cant-work-0002-format-midi1-multi-zip-number-03.mid\n",
      "composer-bach-edition-bg-genre-cant-work-0002-format-midi1-multi-zip-number-04.mid\n",
      "composer-bach-edition-bg-genre-cant-work-0002-format-midi1-multi-zip-number-05.mid\n",
      "composer-bach-edition-bg-genre-cant-work-0002-format-midi1-multi-zip-number-06.mid\n",
      "composer-haydn-edition-bh-genre-sym-work-s-001-format-midi1-multi-zip-number-01.mid\n",
      "composer-haydn-edition-bh-genre-sym-work-s-001-format-midi1-multi-zip-number-02.mid\n",
      "composer-haydn-edition-bh-genre-sym-work-s-001-format-midi1-multi-zip-number-03.mid\n",
      "composer-mozart-edition-bh-genre-conc-work-k450-format-midi1-multi-zip-number-01.mid\n",
      "composer-mozart-edition-bh-genre-conc-work-k450-format-midi1-multi-zip-number-02.mid\n",
      "composer-mozart-edition-bh-genre-conc-work-k450-format-midi1-multi-zip-number-03.mid\n",
      "MuseData\n"
     ]
    }
   ],
   "source": [
    "%%bash\n",
    "function join_by { local IFS=\"$1\"; shift; echo \"$*\"; }\n",
    "\n",
    "\n",
    "cd sample\n",
    "OUTDIR=MIDI/MuseData\n",
    "# mkdir -p tmp\n",
    "mkdir -p $OUTDIR\n",
    "\n",
    "for TARFILE in $(ls -1 mddata*)\n",
    "do\n",
    "\n",
    "rm -rf tmp/*\n",
    "QUERY_STRING=${TARFILE#*\\?}\n",
    "# ${arr[0]}=\n",
    "arr=(${QUERY_STRING//[=&]/ })\n",
    "bname=$(join_by - \"${arr[@]}\")\n",
    "echo $bname\n",
    "unzip $TARFILE -d tmp\n",
    "    for F in $(ls -1 tmp/midi1/*)\n",
    "    do\n",
    "    cmd=\"mv $F $OUTDIR/${bname}-number-${F##*/}\"\n",
    "    echo $cmd\n",
    "    eval $cmd\n",
    "    done\n",
    "# echo ${arr[1]}\n",
    "# echo ${arr[2]}\n",
    "# composer=$(echo $F | sed 's/.*composer=\\([^&]*\\).*/\\1/')\n",
    "# name=$(grep )\n",
    "done\n",
    "\n",
    "ls MIDI"
   ]
  },
  {
   "cell_type": "code",
   "execution_count": 58,
   "metadata": {
    "collapsed": true
   },
   "outputs": [],
   "source": [
    "import mido\n"
   ]
  }
 ],
 "metadata": {
  "kernelspec": {
   "display_name": "Python 2",
   "language": "python",
   "name": "python2"
  },
  "language_info": {
   "codemirror_mode": {
    "name": "ipython",
    "version": 2
   },
   "file_extension": ".py",
   "mimetype": "text/x-python",
   "name": "python",
   "nbconvert_exporter": "python",
   "pygments_lexer": "ipython2",
   "version": "2.7.12"
  }
 },
 "nbformat": 4,
 "nbformat_minor": 2
}
